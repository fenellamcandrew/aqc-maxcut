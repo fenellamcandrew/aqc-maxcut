{
 "cells": [
  {
   "cell_type": "markdown",
   "metadata": {},
   "source": [
    "# YAML Chats in `Python`\n",
    "\n",
    "Lets read in a `yaml` file for our structure:\n",
    "\n",
    "```\n",
    "experiment: \n",
    "  name: \"three-sat\"\n",
    "  author: \"vivek\"\n",
    "  tracking-uri: \"http://115.146.95.176:5000/\"\n",
    "  seed: 1032918\n",
    "  utils: \n",
    "    - \"utils/schrodinger-solver.R\"\n",
    "\n",
    "initialise:\n",
    "  source: \"src/instance-generation/generate-usa-instances.R\"\n",
    "  params:\n",
    "    instance_index: \"{{instance_index}}\"\n",
    "    \n",
    "build_hamiltonians:\n",
    "  source: \"src/build-hamiltonians/construct-time-evolution.R\"\n",
    "  params:\n",
    "    n_qubits: \"{{n_qubits}}\"\n",
    "    time_T: \"{{time_T}}\"\n",
    "\n",
    "state_evolution:\n",
    "  source: \n",
    "    - \"src/evolve-quantum-system.R\"\n",
    "\n",
    "results:\n",
    "  source: \"src/plotting-helpers.R\"\n",
    "```"
   ]
  },
  {
   "cell_type": "code",
   "execution_count": 33,
   "metadata": {},
   "outputs": [
    {
     "name": "stdout",
     "output_type": "stream",
     "text": [
      "{\n",
      "    \"experiment\": {\n",
      "        \"name\": \"maxcut\",\n",
      "        \"author\": \"fen\",\n",
      "        \"tracking-uri\": \"http://115.146.95.176:5000/\",\n",
      "        \"seed\": 1032918,\n",
      "        \"utils\": [\n",
      "            \"SCRIPT_PATH\",\n",
      "            \"SCRIPT_2.py\",\n",
      "            \"define-paulis.py\"\n",
      "        ]\n",
      "    },\n",
      "    \"initialise\": {\n",
      "        \"source\": \"initialise_SCRIPT_PATH\",\n",
      "        \"params\": {\n",
      "            \"instance_index\": \"{{instance_index}}\"\n",
      "        }\n",
      "    },\n",
      "    \"build_hamiltonians\": {\n",
      "        \"source\": \"build_hamiltonians_SCRIPT_PATH\",\n",
      "        \"params\": {\n",
      "            \"n_qubits\": \"{{n_qubits}}\",\n",
      "            \"time_T\": \"{{time_T}}\"\n",
      "        }\n",
      "    },\n",
      "    \"state_evolution\": {\n",
      "        \"source\": [\n",
      "            \"solver_SCRIPT_PATH\"\n",
      "        ]\n",
      "    },\n",
      "    \"results\": {\n",
      "        \"source\": \"results_SCRIPT_PATH\"\n",
      "    }\n",
      "}\n"
     ]
    }
   ],
   "source": [
    "import yaml\n",
    "import json\n",
    "import importlib\n",
    "\n",
    "# Read in yaml configuration file\n",
    "with open('../params/params_template.yml') as f:\n",
    "    params = yaml.load(f)\n",
    "    print(json.dumps(params, indent=4))"
   ]
  },
  {
   "cell_type": "markdown",
   "metadata": {},
   "source": [
    "Here is some basic logic on how to write an source function for all ur scripts"
   ]
  },
  {
   "cell_type": "code",
   "execution_count": 36,
   "metadata": {},
   "outputs": [
    {
     "name": "stdout",
     "output_type": "stream",
     "text": [
      "['SCRIPT_PATH', 'SCRIPT_2.py', 'define-paulis.py']\n",
      "initialise_SCRIPT_PATH\n",
      "build_hamiltonians_SCRIPT_PATH\n",
      "['solver_SCRIPT_PATH']\n",
      "results_SCRIPT_PATH\n"
     ]
    }
   ],
   "source": [
    "for key in params.keys():\n",
    "    sub_keys = params[key].keys()\n",
    "    for i in sub_keys:\n",
    "        if i == \"source\" or i == \"utils\":\n",
    "            print(params[key][i])\n",
    "            for script in params[key][i]:\n",
    "                # function to import scripts in\n",
    "                pass"
   ]
  },
  {
   "cell_type": "code",
   "execution_count": null,
   "metadata": {
    "collapsed": true
   },
   "outputs": [],
   "source": []
  }
 ],
 "metadata": {
  "kernelspec": {
   "display_name": "Python 3",
   "language": "python",
   "name": "python3"
  },
  "language_info": {
   "codemirror_mode": {
    "name": "ipython",
    "version": 3
   },
   "file_extension": ".py",
   "mimetype": "text/x-python",
   "name": "python",
   "nbconvert_exporter": "python",
   "pygments_lexer": "ipython3",
   "version": "3.6.1"
  }
 },
 "nbformat": 4,
 "nbformat_minor": 2
}
